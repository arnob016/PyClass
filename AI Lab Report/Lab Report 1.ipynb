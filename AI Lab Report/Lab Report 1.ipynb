{
 "cells": [
  {
   "cell_type": "markdown",
   "metadata": {},
   "source": [
    "> Arnob Dey |\n",
    "> ID : 203-15-3906|\n",
    "> Section : PC - B | \n",
    "> Subject: Artificial Intelligence Lab | \n",
    "> Course Code: CSE316 |"
   ]
  },
  {
   "cell_type": "markdown",
   "metadata": {},
   "source": [
    "> List, tuple related experiments | Lab Report 1"
   ]
  },
  {
   "cell_type": "code",
   "execution_count": null,
   "metadata": {},
   "outputs": [],
   "source": [
    "#Tuple Related Experiment\n",
    "\n",
    "tpl = ()\n",
    "print('Enter an integer to add to the tuple. Enter 0 to stop.')\n",
    "while True:\n",
    "    num = input(\"Enter a number: \")\n",
    "    if num == '0':\n",
    "        break\n",
    "    try:\n",
    "        num = int(num)\n",
    "    except:\n",
    "        print(\"Invalid input\")\n",
    "        continue\n",
    "    tpl = tpl + (num, )\n",
    "print(tpl)"
   ]
  },
  {
   "cell_type": "code",
   "execution_count": null,
   "metadata": {},
   "outputs": [],
   "source": [
    "#List Related Experiment\n",
    "lst = []\n",
    "print('Enter an integer to add to the list. Enter 0 to stop.')\n",
    "while True:\n",
    "    num = input(\"Enter a number: \")\n",
    "    if num == '0':\n",
    "        break\n",
    "    try:\n",
    "        num = int(num)\n",
    "    except:\n",
    "        print(\"Invalid input\")\n",
    "        continue\n",
    "    lst.append(num)\n",
    "print(lst)"
   ]
  },
  {
   "cell_type": "code",
   "execution_count": null,
   "metadata": {},
   "outputs": [],
   "source": [
    "#List to tuple \n",
    "\n",
    "lst = []\n",
    "for i in range (10):\n",
    "    lst.append(i)\n",
    "print('List :', lst)\n",
    "tpl = tuple(lst)\n",
    "print('Tuple :', tpl)"
   ]
  },
  {
   "cell_type": "code",
   "execution_count": 5,
   "metadata": {},
   "outputs": [
    {
     "name": "stdout",
     "output_type": "stream",
     "text": [
      "Tuple : (0, 1, 2, 3, 4, 5, 6, 7, 8, 9)\n",
      "List : [0, 1, 2, 3, 4, 5, 6, 7, 8, 9]\n"
     ]
    }
   ],
   "source": [
    "#Tuple to list \n",
    "\n",
    "tpl = ()\n",
    "for i in range (10):\n",
    "    tpl = tpl + (i, )\n",
    "print('Tuple :', tpl)\n",
    "lst = list(tpl)\n",
    "print('List :', lst)\n"
   ]
  }
 ],
 "metadata": {
  "kernelspec": {
   "display_name": "Python 3.11.0 64-bit",
   "language": "python",
   "name": "python3"
  },
  "language_info": {
   "codemirror_mode": {
    "name": "ipython",
    "version": 3
   },
   "file_extension": ".py",
   "mimetype": "text/x-python",
   "name": "python",
   "nbconvert_exporter": "python",
   "pygments_lexer": "ipython3",
   "version": "3.11.0"
  },
  "orig_nbformat": 4,
  "vscode": {
   "interpreter": {
    "hash": "c261aea317cc0286b3b3261fbba9abdec21eaa57589985bb7a274bf54d6cc0a7"
   }
  }
 },
 "nbformat": 4,
 "nbformat_minor": 2
}

{
 "cells": [
  {
   "cell_type": "code",
   "execution_count": 3,
   "metadata": {},
   "outputs": [
    {
     "name": "stdout",
     "output_type": "stream",
     "text": [
      "You rolled the dice 5 times\n",
      "The number 1 was rolled 2 times\n",
      "The number 2 was rolled 1 times\n",
      "The number 3 was rolled 0 times\n",
      "The number 4 was rolled 1 times\n",
      "The number 5 was rolled 1 times\n",
      "The number 6 was rolled 0 times\n"
     ]
    }
   ],
   "source": [
    "import random\n",
    "\n",
    "while True:\n",
    "    try:\n",
    "        userinp = int(input(\"Enter the number of times to roll the dice: \"))\n",
    "        break\n",
    "    except ValueError:\n",
    "        print(\"Invalid input, integer required\")\n",
    "    \n",
    "dice1 = 0\n",
    "dice2 = 0\n",
    "dice3 = 0\n",
    "dice4 = 0\n",
    "dice5 = 0\n",
    "dice6 = 0\n",
    "for i in range(userinp):\n",
    "    dice = random.randint(1,6)\n",
    "    if dice == 1:\n",
    "        dice1 += 1\n",
    "    elif dice == 2:\n",
    "        dice2 += 1\n",
    "    elif dice == 3:\n",
    "        dice3 += 1\n",
    "    elif dice == 4:\n",
    "        dice4 += 1\n",
    "    elif dice == 5:\n",
    "        dice5 += 1\n",
    "    elif dice == 6:\n",
    "        dice6 += 1\n",
    "print(\"You rolled the dice\",dice,\"times\")\n",
    "print(\"You rolled 1\",dice1,\"times\")\n",
    "print(\"You rolled 2\",dice2,\"times\")\n",
    "print(\"You rolled 3\",dice3,\"times\")\n",
    "print(\"You rolled 4\",dice4,\"times\")\n",
    "print(\"You rolled 5\",dice5,\"times\")\n",
    "print(\"You rolled 6\",dice6,\"times\")\n"
   ]
  }
 ],
 "metadata": {
  "kernelspec": {
   "display_name": "Python 3.11.0 64-bit",
   "language": "python",
   "name": "python3"
  },
  "language_info": {
   "codemirror_mode": {
    "name": "ipython",
    "version": 3
   },
   "file_extension": ".py",
   "mimetype": "text/x-python",
   "name": "python",
   "nbconvert_exporter": "python",
   "pygments_lexer": "ipython3",
   "version": "3.11.0"
  },
  "orig_nbformat": 4,
  "vscode": {
   "interpreter": {
    "hash": "c261aea317cc0286b3b3261fbba9abdec21eaa57589985bb7a274bf54d6cc0a7"
   }
  }
 },
 "nbformat": 4,
 "nbformat_minor": 2
}

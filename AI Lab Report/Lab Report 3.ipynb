{
 "cells": [
  {
   "cell_type": "markdown",
   "metadata": {},
   "source": [
    "> Arnob Dey |\n",
    "> ID : 203-15-3906|\n",
    "> Section : PC - B | \n",
    "> Subject: Artificial Intelligence Lab | \n",
    "> Course Code: CSE316 |"
   ]
  },
  {
   "cell_type": "code",
   "execution_count": 2,
   "metadata": {},
   "outputs": [],
   "source": [
    "import numpy as np"
   ]
  },
  {
   "cell_type": "code",
   "execution_count": 3,
   "metadata": {},
   "outputs": [],
   "source": [
    "#Arrange in numpy array\n",
    "arr = np.arange(1,11)\n",
    "print(arr)\n",
    "\n",
    "#Square of the numbers in numpy array\n",
    "arr2 = [x**2 for x in arr]\n",
    "print(arr2)\n",
    "\n",
    "#Cube of the numbers in numpy array\n",
    "arr3 = [x**3 for x in arr]\n",
    "print(arr3)\n",
    "\n",
    "#Square Root of the numbers in numpy array\n",
    "arr4 = [x**.5 for x in arr]\n",
    "print(arr4)\n",
    "\n",
    "#Reciprocal of the numbers in numpy array\n",
    "arr5 = [1/x for x in arr]\n",
    "print(arr5)\n",
    "\n",
    "#Sin of the numbers numpy array\n",
    "arr6 = [np.sin(x) for x in arr]\n",
    "print(arr6)\n",
    "\n",
    "#Cosin of the numbers numpy array\n",
    "arr7 = [np.cos(x) for x in arr]\n",
    "print(arr7)"
   ]
  }
 ],
 "metadata": {
  "kernelspec": {
   "display_name": "Python 3.11.0 64-bit",
   "language": "python",
   "name": "python3"
  },
  "language_info": {
   "codemirror_mode": {
    "name": "ipython",
    "version": 3
   },
   "file_extension": ".py",
   "mimetype": "text/x-python",
   "name": "python",
   "nbconvert_exporter": "python",
   "pygments_lexer": "ipython3",
   "version": "3.11.0"
  },
  "orig_nbformat": 4,
  "vscode": {
   "interpreter": {
    "hash": "c261aea317cc0286b3b3261fbba9abdec21eaa57589985bb7a274bf54d6cc0a7"
   }
  }
 },
 "nbformat": 4,
 "nbformat_minor": 2
}

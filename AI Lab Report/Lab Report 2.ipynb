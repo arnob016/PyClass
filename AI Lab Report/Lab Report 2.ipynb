{
 "cells": [
  {
   "cell_type": "markdown",
   "metadata": {},
   "source": [
    "> Arnob Dey |\n",
    "> ID : 203-15-3906|\n",
    "> Section : PC - B | \n",
    "> Subject: Artificial Intelligence Lab | \n",
    "> Course Code: CSE316 |"
   ]
  },
  {
   "cell_type": "code",
   "execution_count": null,
   "metadata": {},
   "outputs": [],
   "source": [
    "#Array related experiments\n",
    "\n",
    "arr = []\n",
    "print('Enter 0 to stop the program')\n",
    "num = int(input(\"Enter a number: \"))\n",
    "while num != 0000:\n",
    "    arr.append(num)\n",
    "    num = int(input(\"Enter a number: \"))\n",
    "print(arr)"
   ]
  },
  {
   "cell_type": "code",
   "execution_count": null,
   "metadata": {},
   "outputs": [],
   "source": [
    "#Set related experiments\n",
    "\n",
    "s = set()\n",
    "print('Enter 0 to stop the program')\n",
    "num = int(input(\"Enter a number: \"))\n",
    "while num != 0:\n",
    "    s.add(num)\n",
    "    num = int(input(\"Enter a number: \"))\n",
    "print(s)"
   ]
  },
  {
   "cell_type": "code",
   "execution_count": null,
   "metadata": {},
   "outputs": [],
   "source": [
    "#Array to set conversion\n",
    "\n",
    "arr = []\n",
    "for i in range(1,11):\n",
    "    arr.append(i)\n",
    "print(arr)\n",
    "s = set(arr)\n",
    "print(s)"
   ]
  },
  {
   "cell_type": "code",
   "execution_count": null,
   "metadata": {},
   "outputs": [],
   "source": [
    "#Set to array conversion\n",
    "\n",
    "s = set()\n",
    "for i in range(1,11):\n",
    "    s.add(i)\n",
    "print(s)\n",
    "arr = list(s)\n",
    "print(arr)"
   ]
  }
 ],
 "metadata": {
  "kernelspec": {
   "display_name": "Python 3.11.0 64-bit",
   "language": "python",
   "name": "python3"
  },
  "language_info": {
   "codemirror_mode": {
    "name": "ipython",
    "version": 3
   },
   "file_extension": ".py",
   "mimetype": "text/x-python",
   "name": "python",
   "nbconvert_exporter": "python",
   "pygments_lexer": "ipython3",
   "version": "3.11.0"
  },
  "orig_nbformat": 4,
  "vscode": {
   "interpreter": {
    "hash": "c261aea317cc0286b3b3261fbba9abdec21eaa57589985bb7a274bf54d6cc0a7"
   }
  }
 },
 "nbformat": 4,
 "nbformat_minor": 2
}

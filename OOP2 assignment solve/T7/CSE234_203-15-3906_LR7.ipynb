{
 "cells": [
  {
   "cell_type": "markdown",
   "metadata": {},
   "source": [
    "> Arnob Dey\n",
    "> Student ID : 203-15-3906\n",
    "> Subject : Object Oriented Programming 2\n",
    "> Lab Report : 7"
   ]
  },
  {
   "cell_type": "code",
   "execution_count": 1,
   "metadata": {},
   "outputs": [
    {
     "name": "stdout",
     "output_type": "stream",
     "text": [
      "Student ID:  203-15-3906\n",
      "Student Name:  Arnob\n",
      "Student Class:  PC-B\n"
     ]
    }
   ],
   "source": [
    "class Student:\n",
    "    def __init__(self, student_id, student_name, student_class):\n",
    "        self.student_id = student_id\n",
    "        self.student_name = student_name\n",
    "        self.student_class = student_class\n",
    "\n",
    "    def display(self):\n",
    "        print(\"Student ID: \", self.student_id)\n",
    "        print(\"Student Name: \", self.student_name)\n",
    "        print(\"Student Class: \", self.student_class)\n",
    "student1 = Student('203-15-3906', \"Arnob\", 'PC-B')\n",
    "student1.display()\n"
   ]
  },
  {
   "cell_type": "code",
   "execution_count": 2,
   "metadata": {},
   "outputs": [
    {
     "name": "stdout",
     "output_type": "stream",
     "text": [
      "Student ID:  203-15-3906\n",
      "Student Name:  Arnob\n",
      "Student Class:  PC-B\n",
      "------ New Output ------\n",
      "Student ID:  203-15-3906\n",
      "Student Name:  \n",
      "Student Class:  PC-B\n"
     ]
    }
   ],
   "source": [
    "class Student:\n",
    "    def __init__(self, student_id, student_name, student_class):\n",
    "        self.student_id = student_id\n",
    "        self.student_name = student_name\n",
    "        self.student_class = student_class\n",
    "\n",
    "    def display(self):\n",
    "        print(\"Student ID: \", self.student_id)\n",
    "        print(\"Student Name: \", self.student_name)\n",
    "        print(\"Student Class: \", self.student_class)\n",
    "\n",
    "    def remove(self):\n",
    "        self.student_name = ''\n",
    "        \n",
    "student1 = Student('203-15-3906', \"Arnob\", 'PC-B')\n",
    "student1.display()\n",
    "student1.remove()\n",
    "print('------ New Output ------')\n",
    "student1.display()"
   ]
  },
  {
   "cell_type": "code",
   "execution_count": 3,
   "metadata": {},
   "outputs": [
    {
     "name": "stdout",
     "output_type": "stream",
     "text": [
      "Area for a rectangle with length 5 and width 6 is:  30\n"
     ]
    }
   ],
   "source": [
    "class Rectangle:\n",
    "    def __init__(self, length, width):\n",
    "        self.length = length\n",
    "        self.width = width\n",
    "\n",
    "    def area(self):\n",
    "        return self.length * self.width \n",
    "    \n",
    "leng = int(input('Enter rectangle length: '))\n",
    "wid = int(input('Enter rectangle width: '))\n",
    "rectangle = Rectangle(5, 6)\n",
    "print(f'Area for a rectangle with length {leng} and width {wid} is: ', rectangle.area())\n"
   ]
  },
  {
   "cell_type": "code",
   "execution_count": 4,
   "metadata": {},
   "outputs": [
    {
     "name": "stdout",
     "output_type": "stream",
     "text": [
      "[-25, -10, -7, -3, 2, 4, 8, 10]\n",
      "-10 2 8\n",
      "-7 -3 10\n"
     ]
    }
   ],
   "source": [
    "class ThreeSum:\n",
    "    def __init__(self, arr1):\n",
    "        self.arr1 = arr1\n",
    "        print(self.arr1)\n",
    "\n",
    "    def sum1(self):\n",
    "        n = len(self.arr1)\n",
    "        for i in range(0, n-2):\n",
    "            for j in range(i+1, n-1):\n",
    "                for k in range(j+1, n):\n",
    "                    if self.arr1[i] + self.arr1[j] + self.arr1[k] == 0:\n",
    "                        print(self.arr1[i], self.arr1[j], self.arr1[k])\n",
    "\n",
    "arr1 = [-25, -10, -7, -3, 2, 4, 8, 10]\n",
    "threeSum = ThreeSum(arr1)\n",
    "threeSum.sum1()"
   ]
  },
  {
   "cell_type": "code",
   "execution_count": 10,
   "metadata": {},
   "outputs": [
    {
     "name": "stdout",
     "output_type": "stream",
     "text": [
      "Name:  Arnob\n",
      "Student ID:  203-15-3906\n"
     ]
    }
   ],
   "source": [
    "class Base:\n",
    "    def __init__(self, name, id):\n",
    "        self.name = name\n",
    "        self.id = id\n",
    "\n",
    "    def display(self):\n",
    "        print('Name:\\ ', self.name)\n",
    "        print('Student ID: ', self.id)\n",
    "\n",
    "base = Base(input('Enter Name:'), input('Enter Roll:'))\n",
    "base.display()"
   ]
  }
 ],
 "metadata": {
  "kernelspec": {
   "display_name": "Python 3.11.0 64-bit",
   "language": "python",
   "name": "python3"
  },
  "language_info": {
   "codemirror_mode": {
    "name": "ipython",
    "version": 3
   },
   "file_extension": ".py",
   "mimetype": "text/x-python",
   "name": "python",
   "nbconvert_exporter": "python",
   "pygments_lexer": "ipython3",
   "version": "3.11.0"
  },
  "orig_nbformat": 4,
  "vscode": {
   "interpreter": {
    "hash": "c261aea317cc0286b3b3261fbba9abdec21eaa57589985bb7a274bf54d6cc0a7"
   }
  }
 },
 "nbformat": 4,
 "nbformat_minor": 2
}
